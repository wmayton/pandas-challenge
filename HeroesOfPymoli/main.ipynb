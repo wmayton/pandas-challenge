{
 "cells": [
  {
   "cell_type": "code",
   "execution_count": 80,
   "metadata": {},
   "outputs": [],
   "source": [
    "import os\n",
    "import pandas as pd\n",
    "import numpy as np\n",
    "import csv"
   ]
  },
  {
   "cell_type": "code",
   "execution_count": 81,
   "metadata": {},
   "outputs": [],
   "source": [
    "#load csv\n",
    "csvpath = os.path.join('pymoli_data.csv')"
   ]
  },
  {
   "cell_type": "code",
   "execution_count": 82,
   "metadata": {},
   "outputs": [
    {
     "data": {
      "text/html": [
       "<div>\n",
       "<style scoped>\n",
       "    .dataframe tbody tr th:only-of-type {\n",
       "        vertical-align: middle;\n",
       "    }\n",
       "\n",
       "    .dataframe tbody tr th {\n",
       "        vertical-align: top;\n",
       "    }\n",
       "\n",
       "    .dataframe thead th {\n",
       "        text-align: right;\n",
       "    }\n",
       "</style>\n",
       "<table border=\"1\" class=\"dataframe\">\n",
       "  <thead>\n",
       "    <tr style=\"text-align: right;\">\n",
       "      <th></th>\n",
       "      <th>Purchase ID</th>\n",
       "      <th>SN</th>\n",
       "      <th>Age</th>\n",
       "      <th>Gender</th>\n",
       "      <th>Item ID</th>\n",
       "      <th>Item Name</th>\n",
       "      <th>Price</th>\n",
       "    </tr>\n",
       "  </thead>\n",
       "  <tbody>\n",
       "    <tr>\n",
       "      <th>0</th>\n",
       "      <td>0</td>\n",
       "      <td>Lisim78</td>\n",
       "      <td>20</td>\n",
       "      <td>Male</td>\n",
       "      <td>108</td>\n",
       "      <td>Extraction, Quickblade Of Trembling Hands</td>\n",
       "      <td>3.53</td>\n",
       "    </tr>\n",
       "    <tr>\n",
       "      <th>1</th>\n",
       "      <td>1</td>\n",
       "      <td>Lisovynya38</td>\n",
       "      <td>40</td>\n",
       "      <td>Male</td>\n",
       "      <td>143</td>\n",
       "      <td>Frenzied Scimitar</td>\n",
       "      <td>1.56</td>\n",
       "    </tr>\n",
       "    <tr>\n",
       "      <th>2</th>\n",
       "      <td>2</td>\n",
       "      <td>Ithergue48</td>\n",
       "      <td>24</td>\n",
       "      <td>Male</td>\n",
       "      <td>92</td>\n",
       "      <td>Final Critic</td>\n",
       "      <td>4.88</td>\n",
       "    </tr>\n",
       "    <tr>\n",
       "      <th>3</th>\n",
       "      <td>3</td>\n",
       "      <td>Chamassasya86</td>\n",
       "      <td>24</td>\n",
       "      <td>Male</td>\n",
       "      <td>100</td>\n",
       "      <td>Blindscythe</td>\n",
       "      <td>3.27</td>\n",
       "    </tr>\n",
       "    <tr>\n",
       "      <th>4</th>\n",
       "      <td>4</td>\n",
       "      <td>Iskosia90</td>\n",
       "      <td>23</td>\n",
       "      <td>Male</td>\n",
       "      <td>131</td>\n",
       "      <td>Fury</td>\n",
       "      <td>1.44</td>\n",
       "    </tr>\n",
       "  </tbody>\n",
       "</table>\n",
       "</div>"
      ],
      "text/plain": [
       "   Purchase ID             SN  Age Gender  Item ID  \\\n",
       "0            0        Lisim78   20   Male      108   \n",
       "1            1    Lisovynya38   40   Male      143   \n",
       "2            2     Ithergue48   24   Male       92   \n",
       "3            3  Chamassasya86   24   Male      100   \n",
       "4            4      Iskosia90   23   Male      131   \n",
       "\n",
       "                                   Item Name  Price  \n",
       "0  Extraction, Quickblade Of Trembling Hands   3.53  \n",
       "1                          Frenzied Scimitar   1.56  \n",
       "2                               Final Critic   4.88  \n",
       "3                                Blindscythe   3.27  \n",
       "4                                       Fury   1.44  "
      ]
     },
     "execution_count": 82,
     "metadata": {},
     "output_type": "execute_result"
    }
   ],
   "source": [
    "#convert csv to dataframe\n",
    "df = pd.read_csv(\"pymoli_data.csv\")\n",
    "df.head()"
   ]
  },
  {
   "cell_type": "code",
   "execution_count": 83,
   "metadata": {},
   "outputs": [],
   "source": [
    "#set variables\n",
    "total_purchases = 0\n",
    "item_count = 0\n",
    "player_count = 0\n",
    "visited = []"
   ]
  },
  {
   "cell_type": "code",
   "execution_count": 84,
   "metadata": {},
   "outputs": [],
   "source": [
    "#run a for-loop to get item count\n",
    "for i in range(0, len(df['Item Name'])):\n",
    "    \n",
    "    if df['Item Name'][i] not in visited: \n",
    "        \n",
    "        visited.append(df['Item Name'][i])\n",
    "          \n",
    "        item_count += 1"
   ]
  },
  {
   "cell_type": "code",
   "execution_count": 85,
   "metadata": {},
   "outputs": [],
   "source": [
    "#run a for-loop to get number of unique players\n",
    "for i in range(0, len(df['SN'])):\n",
    "    \n",
    "    if df['SN'][i] not in visited: \n",
    "        \n",
    "        visited.append(df['SN'][i])\n",
    "          \n",
    "        player_count += 1"
   ]
  },
  {
   "cell_type": "code",
   "execution_count": 86,
   "metadata": {},
   "outputs": [],
   "source": [
    "#count total number of purchases by all customers\n",
    "with open(csvpath) as fin:\n",
    "    headerline = next(fin)\n",
    "    for i in csv.reader(fin):\n",
    "        total_purchases += 1"
   ]
  },
  {
   "cell_type": "code",
   "execution_count": 87,
   "metadata": {},
   "outputs": [],
   "source": [
    "#calculate average purchase price\n",
    "mean_df = df['Price'].mean()"
   ]
  },
  {
   "cell_type": "code",
   "execution_count": 88,
   "metadata": {},
   "outputs": [],
   "source": [
    "#calculate total revenue for all item purchases\n",
    "total_revenue = df['Price'].sum()"
   ]
  },
  {
   "cell_type": "code",
   "execution_count": 89,
   "metadata": {},
   "outputs": [
    {
     "data": {
      "text/plain": [
       "Male                     652\n",
       "Female                   113\n",
       "Other / Non-Disclosed     15\n",
       "Name: Gender, dtype: int64"
      ]
     },
     "execution_count": 89,
     "metadata": {},
     "output_type": "execute_result"
    }
   ],
   "source": [
    "#get count of how many customers are male, female, and other / non-diclosed\n",
    "df['Gender'].value_counts()"
   ]
  },
  {
   "cell_type": "code",
   "execution_count": 90,
   "metadata": {},
   "outputs": [],
   "source": [
    "#set variables for use in percent calculations\n",
    "count_male = 652\n",
    "count_female = 113\n",
    "count_other = 15"
   ]
  },
  {
   "cell_type": "code",
   "execution_count": 91,
   "metadata": {},
   "outputs": [],
   "source": [
    "#calculate percentage of customers that are male, female, and other/non-disclosed\n",
    "percentage_male = (count_male / total_purchases) * 100\n",
    "percentage_female = (count_female / total_purchases) * 100\n",
    "percentage_other = (count_other / total_purchases) * 100"
   ]
  },
  {
   "cell_type": "code",
   "execution_count": 92,
   "metadata": {},
   "outputs": [
    {
     "data": {
      "text/html": [
       "<div>\n",
       "<style scoped>\n",
       "    .dataframe tbody tr th:only-of-type {\n",
       "        vertical-align: middle;\n",
       "    }\n",
       "\n",
       "    .dataframe tbody tr th {\n",
       "        vertical-align: top;\n",
       "    }\n",
       "\n",
       "    .dataframe thead th {\n",
       "        text-align: right;\n",
       "    }\n",
       "</style>\n",
       "<table border=\"1\" class=\"dataframe\">\n",
       "  <thead>\n",
       "    <tr style=\"text-align: right;\">\n",
       "      <th></th>\n",
       "      <th>Purchase ID</th>\n",
       "      <th>SN</th>\n",
       "      <th>Age</th>\n",
       "      <th>Gender</th>\n",
       "      <th>Item ID</th>\n",
       "      <th>Item Name</th>\n",
       "      <th>Price</th>\n",
       "    </tr>\n",
       "  </thead>\n",
       "  <tbody>\n",
       "    <tr>\n",
       "      <th>0</th>\n",
       "      <td>0</td>\n",
       "      <td>Lisim78</td>\n",
       "      <td>20</td>\n",
       "      <td>Male</td>\n",
       "      <td>108</td>\n",
       "      <td>Extraction, Quickblade Of Trembling Hands</td>\n",
       "      <td>3.53</td>\n",
       "    </tr>\n",
       "    <tr>\n",
       "      <th>1</th>\n",
       "      <td>1</td>\n",
       "      <td>Lisovynya38</td>\n",
       "      <td>40</td>\n",
       "      <td>Male</td>\n",
       "      <td>143</td>\n",
       "      <td>Frenzied Scimitar</td>\n",
       "      <td>1.56</td>\n",
       "    </tr>\n",
       "    <tr>\n",
       "      <th>2</th>\n",
       "      <td>2</td>\n",
       "      <td>Ithergue48</td>\n",
       "      <td>24</td>\n",
       "      <td>Male</td>\n",
       "      <td>92</td>\n",
       "      <td>Final Critic</td>\n",
       "      <td>4.88</td>\n",
       "    </tr>\n",
       "    <tr>\n",
       "      <th>3</th>\n",
       "      <td>3</td>\n",
       "      <td>Chamassasya86</td>\n",
       "      <td>24</td>\n",
       "      <td>Male</td>\n",
       "      <td>100</td>\n",
       "      <td>Blindscythe</td>\n",
       "      <td>3.27</td>\n",
       "    </tr>\n",
       "    <tr>\n",
       "      <th>4</th>\n",
       "      <td>4</td>\n",
       "      <td>Iskosia90</td>\n",
       "      <td>23</td>\n",
       "      <td>Male</td>\n",
       "      <td>131</td>\n",
       "      <td>Fury</td>\n",
       "      <td>1.44</td>\n",
       "    </tr>\n",
       "  </tbody>\n",
       "</table>\n",
       "</div>"
      ],
      "text/plain": [
       "   Purchase ID             SN  Age Gender  Item ID  \\\n",
       "0            0        Lisim78   20   Male      108   \n",
       "1            1    Lisovynya38   40   Male      143   \n",
       "2            2     Ithergue48   24   Male       92   \n",
       "3            3  Chamassasya86   24   Male      100   \n",
       "4            4      Iskosia90   23   Male      131   \n",
       "\n",
       "                                   Item Name  Price  \n",
       "0  Extraction, Quickblade Of Trembling Hands   3.53  \n",
       "1                          Frenzied Scimitar   1.56  \n",
       "2                               Final Critic   4.88  \n",
       "3                                Blindscythe   3.27  \n",
       "4                                       Fury   1.44  "
      ]
     },
     "execution_count": 92,
     "metadata": {},
     "output_type": "execute_result"
    }
   ],
   "source": [
    "#create new df with just male customer info\n",
    "male_df = df.loc[df[\"Gender\"] == \"Male\", :]\n",
    "male_df.head()"
   ]
  },
  {
   "cell_type": "code",
   "execution_count": 93,
   "metadata": {},
   "outputs": [
    {
     "data": {
      "text/html": [
       "<div>\n",
       "<style scoped>\n",
       "    .dataframe tbody tr th:only-of-type {\n",
       "        vertical-align: middle;\n",
       "    }\n",
       "\n",
       "    .dataframe tbody tr th {\n",
       "        vertical-align: top;\n",
       "    }\n",
       "\n",
       "    .dataframe thead th {\n",
       "        text-align: right;\n",
       "    }\n",
       "</style>\n",
       "<table border=\"1\" class=\"dataframe\">\n",
       "  <thead>\n",
       "    <tr style=\"text-align: right;\">\n",
       "      <th></th>\n",
       "      <th>Purchase ID</th>\n",
       "      <th>SN</th>\n",
       "      <th>Age</th>\n",
       "      <th>Gender</th>\n",
       "      <th>Item ID</th>\n",
       "      <th>Item Name</th>\n",
       "      <th>Price</th>\n",
       "    </tr>\n",
       "  </thead>\n",
       "  <tbody>\n",
       "    <tr>\n",
       "      <th>15</th>\n",
       "      <td>15</td>\n",
       "      <td>Lisassa64</td>\n",
       "      <td>21</td>\n",
       "      <td>Female</td>\n",
       "      <td>98</td>\n",
       "      <td>Deadline, Voice Of Subtlety</td>\n",
       "      <td>2.89</td>\n",
       "    </tr>\n",
       "    <tr>\n",
       "      <th>18</th>\n",
       "      <td>18</td>\n",
       "      <td>Reunasu60</td>\n",
       "      <td>22</td>\n",
       "      <td>Female</td>\n",
       "      <td>82</td>\n",
       "      <td>Nirvana</td>\n",
       "      <td>4.90</td>\n",
       "    </tr>\n",
       "    <tr>\n",
       "      <th>38</th>\n",
       "      <td>38</td>\n",
       "      <td>Reulae52</td>\n",
       "      <td>10</td>\n",
       "      <td>Female</td>\n",
       "      <td>116</td>\n",
       "      <td>Renewed Skeletal Katana</td>\n",
       "      <td>4.18</td>\n",
       "    </tr>\n",
       "    <tr>\n",
       "      <th>41</th>\n",
       "      <td>41</td>\n",
       "      <td>Assosia88</td>\n",
       "      <td>20</td>\n",
       "      <td>Female</td>\n",
       "      <td>7</td>\n",
       "      <td>Thorn, Satchel of Dark Souls</td>\n",
       "      <td>1.33</td>\n",
       "    </tr>\n",
       "    <tr>\n",
       "      <th>55</th>\n",
       "      <td>55</td>\n",
       "      <td>Phaelap26</td>\n",
       "      <td>25</td>\n",
       "      <td>Female</td>\n",
       "      <td>84</td>\n",
       "      <td>Arcane Gem</td>\n",
       "      <td>3.79</td>\n",
       "    </tr>\n",
       "  </tbody>\n",
       "</table>\n",
       "</div>"
      ],
      "text/plain": [
       "    Purchase ID         SN  Age  Gender  Item ID  \\\n",
       "15           15  Lisassa64   21  Female       98   \n",
       "18           18  Reunasu60   22  Female       82   \n",
       "38           38   Reulae52   10  Female      116   \n",
       "41           41  Assosia88   20  Female        7   \n",
       "55           55  Phaelap26   25  Female       84   \n",
       "\n",
       "                       Item Name  Price  \n",
       "15   Deadline, Voice Of Subtlety   2.89  \n",
       "18                       Nirvana   4.90  \n",
       "38       Renewed Skeletal Katana   4.18  \n",
       "41  Thorn, Satchel of Dark Souls   1.33  \n",
       "55                    Arcane Gem   3.79  "
      ]
     },
     "execution_count": 93,
     "metadata": {},
     "output_type": "execute_result"
    }
   ],
   "source": [
    "#create df with just female customer info\n",
    "female_df = df.loc[df[\"Gender\"] == \"Female\", :]\n",
    "female_df.head()"
   ]
  },
  {
   "cell_type": "code",
   "execution_count": 94,
   "metadata": {},
   "outputs": [
    {
     "data": {
      "text/html": [
       "<div>\n",
       "<style scoped>\n",
       "    .dataframe tbody tr th:only-of-type {\n",
       "        vertical-align: middle;\n",
       "    }\n",
       "\n",
       "    .dataframe tbody tr th {\n",
       "        vertical-align: top;\n",
       "    }\n",
       "\n",
       "    .dataframe thead th {\n",
       "        text-align: right;\n",
       "    }\n",
       "</style>\n",
       "<table border=\"1\" class=\"dataframe\">\n",
       "  <thead>\n",
       "    <tr style=\"text-align: right;\">\n",
       "      <th></th>\n",
       "      <th>Purchase ID</th>\n",
       "      <th>SN</th>\n",
       "      <th>Age</th>\n",
       "      <th>Gender</th>\n",
       "      <th>Item ID</th>\n",
       "      <th>Item Name</th>\n",
       "      <th>Price</th>\n",
       "    </tr>\n",
       "  </thead>\n",
       "  <tbody>\n",
       "    <tr>\n",
       "      <th>9</th>\n",
       "      <td>9</td>\n",
       "      <td>Chanosian48</td>\n",
       "      <td>35</td>\n",
       "      <td>Other / Non-Disclosed</td>\n",
       "      <td>136</td>\n",
       "      <td>Ghastly Adamantite Protector</td>\n",
       "      <td>3.58</td>\n",
       "    </tr>\n",
       "    <tr>\n",
       "      <th>22</th>\n",
       "      <td>22</td>\n",
       "      <td>Siarithria38</td>\n",
       "      <td>38</td>\n",
       "      <td>Other / Non-Disclosed</td>\n",
       "      <td>24</td>\n",
       "      <td>Warped Fetish</td>\n",
       "      <td>3.81</td>\n",
       "    </tr>\n",
       "    <tr>\n",
       "      <th>82</th>\n",
       "      <td>82</td>\n",
       "      <td>Haerithp41</td>\n",
       "      <td>16</td>\n",
       "      <td>Other / Non-Disclosed</td>\n",
       "      <td>160</td>\n",
       "      <td>Azurewrath</td>\n",
       "      <td>4.40</td>\n",
       "    </tr>\n",
       "    <tr>\n",
       "      <th>111</th>\n",
       "      <td>111</td>\n",
       "      <td>Sundim98</td>\n",
       "      <td>21</td>\n",
       "      <td>Other / Non-Disclosed</td>\n",
       "      <td>41</td>\n",
       "      <td>Orbit</td>\n",
       "      <td>4.75</td>\n",
       "    </tr>\n",
       "    <tr>\n",
       "      <th>228</th>\n",
       "      <td>228</td>\n",
       "      <td>Jiskirran77</td>\n",
       "      <td>20</td>\n",
       "      <td>Other / Non-Disclosed</td>\n",
       "      <td>80</td>\n",
       "      <td>Dreamsong</td>\n",
       "      <td>3.39</td>\n",
       "    </tr>\n",
       "  </tbody>\n",
       "</table>\n",
       "</div>"
      ],
      "text/plain": [
       "     Purchase ID            SN  Age                 Gender  Item ID  \\\n",
       "9              9   Chanosian48   35  Other / Non-Disclosed      136   \n",
       "22            22  Siarithria38   38  Other / Non-Disclosed       24   \n",
       "82            82    Haerithp41   16  Other / Non-Disclosed      160   \n",
       "111          111      Sundim98   21  Other / Non-Disclosed       41   \n",
       "228          228   Jiskirran77   20  Other / Non-Disclosed       80   \n",
       "\n",
       "                        Item Name  Price  \n",
       "9    Ghastly Adamantite Protector   3.58  \n",
       "22                  Warped Fetish   3.81  \n",
       "82                     Azurewrath   4.40  \n",
       "111                         Orbit   4.75  \n",
       "228                     Dreamsong   3.39  "
      ]
     },
     "execution_count": 94,
     "metadata": {},
     "output_type": "execute_result"
    }
   ],
   "source": [
    "#create df with just 'other / non-disclosed' customer info\n",
    "other_df = df.loc[df[\"Gender\"] == \"Other / Non-Disclosed\", :]\n",
    "other_df.head()"
   ]
  },
  {
   "cell_type": "code",
   "execution_count": 95,
   "metadata": {},
   "outputs": [],
   "source": [
    "#calculate mean price for items by gender\n",
    "mean_male = male_df['Price'].mean()\n",
    "mean_female = female_df['Price'].mean()\n",
    "mean_other = other_df['Price'].mean()"
   ]
  },
  {
   "cell_type": "code",
   "execution_count": 96,
   "metadata": {},
   "outputs": [],
   "source": [
    "#calculate total revenue by gender\n",
    "male_revenue = male_df['Price'].sum()\n",
    "female_revenue = female_df['Price'].sum()\n",
    "other_revenue = other_df['Price'].sum()"
   ]
  },
  {
   "cell_type": "code",
   "execution_count": 97,
   "metadata": {},
   "outputs": [],
   "source": [
    "#calculate average amount spent per customer by gender\n",
    "male_totper = male_revenue / count_male\n",
    "female_totper = female_revenue / count_female\n",
    "other_totper = other_revenue / count_other"
   ]
  },
  {
   "cell_type": "code",
   "execution_count": 98,
   "metadata": {},
   "outputs": [],
   "source": [
    "# Create the bins in which Data will be held  \n",
    "bins = [5.9, 9.9, 13.9, 17.9, 21.9, 25.9, 29.9, 33.9, 37.9, 41.9, 45.9]\n",
    "\n",
    "# Create the names for the bins\n",
    "group_names = [\"6-10\", \"10-14\", \"14-18\", \"18-22\", \"22-26\", \"26-30\", \"30-34\", \"34-38\", \"38-42\", \"42-46\"]"
   ]
  },
  {
   "cell_type": "code",
   "execution_count": 99,
   "metadata": {},
   "outputs": [],
   "source": [
    "#create df for binned data (by age)\n",
    "df[\"Age Groups\"] = pd.cut(df[\"Age\"], bins, labels=group_names, include_lowest=True)"
   ]
  },
  {
   "cell_type": "code",
   "execution_count": 100,
   "metadata": {},
   "outputs": [],
   "source": [
    "#calculate customer counts for each binned age group\n",
    "count_groups = df[\"Age Groups\"].value_counts()\n",
    "#print (count_groups)"
   ]
  },
  {
   "cell_type": "code",
   "execution_count": 101,
   "metadata": {},
   "outputs": [],
   "source": [
    "#calculate mean price of items by age group\n",
    "mean_groups = df.groupby('Age Groups')\n",
    "mean_gprice = mean_groups[\"Price\"].mean()\n",
    "#print (mean_gprice)"
   ]
  },
  {
   "cell_type": "code",
   "execution_count": 102,
   "metadata": {},
   "outputs": [],
   "source": [
    "#calculate total expenditure by age group\n",
    "sum_groups = df.groupby('Age Groups')\n",
    "sum_gprice = sum_groups[\"Price\"].sum()\n",
    "#print (sum_gprice)"
   ]
  },
  {
   "cell_type": "code",
   "execution_count": 103,
   "metadata": {},
   "outputs": [],
   "source": [
    "#calculate average expenditure per customer by age group\n",
    "avg_gspend = (sum_gprice / count_groups)\n",
    "#print (avg_gspend)"
   ]
  },
  {
   "cell_type": "code",
   "execution_count": 104,
   "metadata": {},
   "outputs": [],
   "source": [
    "#create dataframe comparing item id, price, and item name. Then show the number of times each item appears in dataset and the total purchase value of each item.\n",
    "item_groups = df.groupby(['Item Name', 'Item ID', 'Price'])\n",
    "item_pcount = item_groups['Item ID'].count()\n",
    "item_psum = item_groups['Price'].sum()\n",
    "#print (item_groups)\n",
    "#print (item_pcount)\n",
    "#print (item_psum)"
   ]
  },
  {
   "cell_type": "code",
   "execution_count": 105,
   "metadata": {},
   "outputs": [],
   "source": [
    "topitem_df = pd.DataFrame({\"Purchase Count\":item_pcount, \"Total Purchase Value\":item_psum})\n",
    "sortitem_df = topitem_df.sort_values(\"Purchase Count\").tail()\n",
    "#sortitem_df.tail()"
   ]
  },
  {
   "cell_type": "code",
   "execution_count": 106,
   "metadata": {},
   "outputs": [],
   "source": [
    "valueitem_df = topitem_df.sort_values(\"Total Purchase Value\").tail()\n",
    "#print (valueitem_df)"
   ]
  },
  {
   "cell_type": "code",
   "execution_count": 107,
   "metadata": {},
   "outputs": [],
   "source": [
    "SN_groups = df.groupby('SN')\n",
    "spender_df = SN_groups[\"Price\"].sum()\n",
    "spendercount = SN_groups[\"Price\"].count()\n",
    "avgprice = SN_groups[\"Price\"].mean()\n",
    "#print (spendercount)\n",
    "#print (spender_df)\n",
    "#print (avgprice)"
   ]
  },
  {
   "cell_type": "code",
   "execution_count": 108,
   "metadata": {},
   "outputs": [],
   "source": [
    "topspender_df = pd.DataFrame({\"Purchase Count\":spendercount, \"Average Purchase Price\":avgprice, \"Total Purchase Value\":spender_df})\n",
    "topspender_df.head()\n",
    "top5spender = (topspender_df.sort_values(\"Total Purchase Value\").tail())"
   ]
  },
  {
   "cell_type": "code",
   "execution_count": 109,
   "metadata": {},
   "outputs": [
    {
     "name": "stdout",
     "output_type": "stream",
     "text": [
      "Heroes of Pymoli\n",
      "----------------\n",
      "Player Count\n",
      "Total Number of Players: 576\n",
      "----------------\n",
      "Purchasing Analysis\n",
      "Number of Unique Items: 179\n",
      "Average Purchase Price: 3.0509871794871795\n",
      "Total Number of Purchases: 780\n",
      "Total Revenue: 2379.77\n",
      "----------------\n",
      "Gender Demographics\n",
      "Percentage of Male Players: 83.58974358974359 Count of Male Players: 652\n",
      "Percentage of Female Players: 14.487179487179489 Count of Female Players: 113\n",
      "Percentage of Other / Non-Disclosed 1.9230769230769231 Count of Other / Non-Disclosed 15\n",
      "----------------\n",
      "Purchasing Analysis (Gender)\n",
      "Number of Purchases: (Male) 652 (Female) 113 (Other/Non-Disclosed) 15\n",
      "Average Purchase Price: (Male) 3.0178527607361967 (Female) 3.203008849557522 (Other/Non-Disclosed) 3.3459999999999996\n",
      "Total Purchase Value: (Male) 1967.64 (Female) 361.94 (Other/Non-Disclosed) 50.19\n",
      "Average Purchase Total per Person Value: (Male) 3.0178527607361967 (Female) 3.203008849557522 (Other/Non-Disclosed) 3.3459999999999996\n",
      "----------------\n",
      "Age Demographics\n",
      "Purchase Count: 22-26    263\n",
      "18-22    210\n",
      "14-18     89\n",
      "30-34     64\n",
      "26-30     42\n",
      "34-38     35\n",
      "10-14     26\n",
      "38-42     23\n",
      "6-10      23\n",
      "42-46      5\n",
      "Name: Age Groups, dtype: int64\n",
      "Average Purchase Price: Age Groups\n",
      "6-10     3.353478\n",
      "10-14    2.918077\n",
      "14-18    3.006742\n",
      "18-22    3.082190\n",
      "22-26    3.045247\n",
      "26-30    2.645238\n",
      "30-34    2.997969\n",
      "34-38    3.209429\n",
      "38-42    3.509565\n",
      "42-46    2.998000\n",
      "Name: Price, dtype: float64\n",
      "Total Purchase Value: Age Groups\n",
      "6-10      77.13\n",
      "10-14     75.87\n",
      "14-18    267.60\n",
      "18-22    647.26\n",
      "22-26    800.90\n",
      "26-30    111.10\n",
      "30-34    191.87\n",
      "34-38    112.33\n",
      "38-42     80.72\n",
      "42-46     14.99\n",
      "Name: Price, dtype: float64\n",
      "Average Purchase Total per Person by Age Group: 6-10     3.353478\n",
      "10-14    2.918077\n",
      "14-18    3.006742\n",
      "18-22    3.082190\n",
      "22-26    3.045247\n",
      "26-30    2.645238\n",
      "30-34    2.997969\n",
      "34-38    3.209429\n",
      "38-42    3.509565\n",
      "42-46    2.998000\n",
      "dtype: float64\n",
      "----------------\n",
      "Top Spenders:              Purchase Count  Average Purchase Price  Total Purchase Value\n",
      "SN                                                                       \n",
      "Iskadarya95               3                4.366667                 13.10\n",
      "Iral74                    4                3.405000                 13.62\n",
      "Chamjask73                3                4.610000                 13.83\n",
      "Idastidru52               4                3.862500                 15.45\n",
      "Lisosia93                 5                3.792000                 18.96\n",
      "----------------\n",
      "Most Popular Items:                                                             Purchase Count  \\\n",
      "Item Name                                    Item ID Price                   \n",
      "Shadow Strike, Glory of Ending Hope          37      3.16                8   \n",
      "Fiery Glass Crusader                         145     4.58                9   \n",
      "Nirvana                                      82      4.90                9   \n",
      "Extraction, Quickblade Of Trembling Hands    108     3.53                9   \n",
      "Oathbreaker, Last Hope of the Breaking Storm 178     4.23               12   \n",
      "\n",
      "                                                            Total Purchase Value  \n",
      "Item Name                                    Item ID Price                        \n",
      "Shadow Strike, Glory of Ending Hope          37      3.16                  25.28  \n",
      "Fiery Glass Crusader                         145     4.58                  41.22  \n",
      "Nirvana                                      82      4.90                  44.10  \n",
      "Extraction, Quickblade Of Trembling Hands    108     3.53                  31.77  \n",
      "Oathbreaker, Last Hope of the Breaking Storm 178     4.23                  50.76  \n",
      "----------------\n",
      "Most Profitable Items:                                                             Purchase Count  \\\n",
      "Item Name                                    Item ID Price                   \n",
      "Singed Scalpel                               103     4.35                8   \n",
      "Final Critic                                 92      4.88                8   \n",
      "Fiery Glass Crusader                         145     4.58                9   \n",
      "Nirvana                                      82      4.90                9   \n",
      "Oathbreaker, Last Hope of the Breaking Storm 178     4.23               12   \n",
      "\n",
      "                                                            Total Purchase Value  \n",
      "Item Name                                    Item ID Price                        \n",
      "Singed Scalpel                               103     4.35                  34.80  \n",
      "Final Critic                                 92      4.88                  39.04  \n",
      "Fiery Glass Crusader                         145     4.58                  41.22  \n",
      "Nirvana                                      82      4.90                  44.10  \n",
      "Oathbreaker, Last Hope of the Breaking Storm 178     4.23                  50.76  \n"
     ]
    }
   ],
   "source": [
    "print (\"Heroes of Pymoli\")\n",
    "print (\"----------------\")\n",
    "print (\"Player Count\")\n",
    "print (\"Total Number of Players:\", player_count)\n",
    "print (\"----------------\")\n",
    "print (\"Purchasing Analysis\")\n",
    "print (\"Number of Unique Items:\", item_count)\n",
    "print(\"Average Purchase Price:\", mean_df)\n",
    "print (\"Total Number of Purchases:\", total_purchases)\n",
    "print (\"Total Revenue:\", total_revenue)\n",
    "print (\"----------------\")\n",
    "print (\"Gender Demographics\")\n",
    "print (\"Percentage of Male Players:\", percentage_male,\"Count of Male Players:\", count_male)\n",
    "print (\"Percentage of Female Players:\", percentage_female, \"Count of Female Players:\", count_female)\n",
    "print (\"Percentage of Other / Non-Disclosed\", percentage_other, \"Count of Other / Non-Disclosed\", count_other)\n",
    "print (\"----------------\")\n",
    "print (\"Purchasing Analysis (Gender)\")\n",
    "print (\"Number of Purchases: (Male)\", count_male, \"(Female)\", count_female, \"(Other/Non-Disclosed)\", count_other)\n",
    "print (\"Average Purchase Price: (Male)\", mean_male, \"(Female)\", mean_female, \"(Other/Non-Disclosed)\", mean_other)\n",
    "print (\"Total Purchase Value: (Male)\", male_revenue, \"(Female)\", female_revenue, \"(Other/Non-Disclosed)\", other_revenue)\n",
    "print (\"Average Purchase Total per Person Value: (Male)\", male_totper, \"(Female)\", female_totper, \"(Other/Non-Disclosed)\", other_totper)\n",
    "print (\"----------------\")\n",
    "print (\"Age Demographics\")\n",
    "print (\"Purchase Count:\", count_groups)\n",
    "print (\"Average Purchase Price:\", mean_gprice)\n",
    "print (\"Total Purchase Value:\", sum_gprice)\n",
    "print (\"Average Purchase Total per Person by Age Group:\", avg_gspend)\n",
    "print (\"----------------\")\n",
    "print (\"Top Spenders:\", top5spender)\n",
    "print (\"----------------\")\n",
    "print (\"Most Popular Items:\", sortitem_df.tail())\n",
    "print (\"----------------\")\n",
    "print (\"Most Profitable Items:\", valueitem_df.tail())"
   ]
  },
  {
   "cell_type": "code",
   "execution_count": null,
   "metadata": {},
   "outputs": [],
   "source": []
  },
  {
   "cell_type": "code",
   "execution_count": null,
   "metadata": {},
   "outputs": [],
   "source": []
  },
  {
   "cell_type": "code",
   "execution_count": null,
   "metadata": {},
   "outputs": [],
   "source": []
  },
  {
   "cell_type": "code",
   "execution_count": null,
   "metadata": {},
   "outputs": [],
   "source": []
  },
  {
   "cell_type": "code",
   "execution_count": null,
   "metadata": {},
   "outputs": [],
   "source": []
  },
  {
   "cell_type": "code",
   "execution_count": null,
   "metadata": {},
   "outputs": [],
   "source": []
  },
  {
   "cell_type": "code",
   "execution_count": null,
   "metadata": {},
   "outputs": [],
   "source": [
    "\n"
   ]
  },
  {
   "cell_type": "code",
   "execution_count": null,
   "metadata": {},
   "outputs": [],
   "source": []
  },
  {
   "cell_type": "code",
   "execution_count": null,
   "metadata": {},
   "outputs": [],
   "source": []
  }
 ],
 "metadata": {
  "kernelspec": {
   "display_name": "Python [conda env:PythonData]",
   "language": "python",
   "name": "conda-env-PythonData-py"
  },
  "language_info": {
   "codemirror_mode": {
    "name": "ipython",
    "version": 3
   },
   "file_extension": ".py",
   "mimetype": "text/x-python",
   "name": "python",
   "nbconvert_exporter": "python",
   "pygments_lexer": "ipython3",
   "version": "3.6.10"
  }
 },
 "nbformat": 4,
 "nbformat_minor": 4
}
