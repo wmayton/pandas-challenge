{
 "cells": [
  {
   "cell_type": "code",
   "execution_count": 1606,
   "metadata": {},
   "outputs": [],
   "source": [
    "import os\n",
    "import pandas as pd\n",
    "import numpy as np\n",
    "import csv"
   ]
  },
  {
   "cell_type": "code",
   "execution_count": 1607,
   "metadata": {},
   "outputs": [],
   "source": [
    "#load csv\n",
    "csvpath = os.path.join('pymoli_data.csv')"
   ]
  },
  {
   "cell_type": "code",
   "execution_count": 1608,
   "metadata": {},
   "outputs": [
    {
     "data": {
      "text/html": [
       "<div>\n",
       "<style scoped>\n",
       "    .dataframe tbody tr th:only-of-type {\n",
       "        vertical-align: middle;\n",
       "    }\n",
       "\n",
       "    .dataframe tbody tr th {\n",
       "        vertical-align: top;\n",
       "    }\n",
       "\n",
       "    .dataframe thead th {\n",
       "        text-align: right;\n",
       "    }\n",
       "</style>\n",
       "<table border=\"1\" class=\"dataframe\">\n",
       "  <thead>\n",
       "    <tr style=\"text-align: right;\">\n",
       "      <th></th>\n",
       "      <th>Purchase ID</th>\n",
       "      <th>SN</th>\n",
       "      <th>Age</th>\n",
       "      <th>Gender</th>\n",
       "      <th>Item ID</th>\n",
       "      <th>Item Name</th>\n",
       "      <th>Price</th>\n",
       "    </tr>\n",
       "  </thead>\n",
       "  <tbody>\n",
       "    <tr>\n",
       "      <th>0</th>\n",
       "      <td>0</td>\n",
       "      <td>Lisim78</td>\n",
       "      <td>20</td>\n",
       "      <td>Male</td>\n",
       "      <td>108</td>\n",
       "      <td>Extraction, Quickblade Of Trembling Hands</td>\n",
       "      <td>3.53</td>\n",
       "    </tr>\n",
       "    <tr>\n",
       "      <th>1</th>\n",
       "      <td>1</td>\n",
       "      <td>Lisovynya38</td>\n",
       "      <td>40</td>\n",
       "      <td>Male</td>\n",
       "      <td>143</td>\n",
       "      <td>Frenzied Scimitar</td>\n",
       "      <td>1.56</td>\n",
       "    </tr>\n",
       "    <tr>\n",
       "      <th>2</th>\n",
       "      <td>2</td>\n",
       "      <td>Ithergue48</td>\n",
       "      <td>24</td>\n",
       "      <td>Male</td>\n",
       "      <td>92</td>\n",
       "      <td>Final Critic</td>\n",
       "      <td>4.88</td>\n",
       "    </tr>\n",
       "    <tr>\n",
       "      <th>3</th>\n",
       "      <td>3</td>\n",
       "      <td>Chamassasya86</td>\n",
       "      <td>24</td>\n",
       "      <td>Male</td>\n",
       "      <td>100</td>\n",
       "      <td>Blindscythe</td>\n",
       "      <td>3.27</td>\n",
       "    </tr>\n",
       "    <tr>\n",
       "      <th>4</th>\n",
       "      <td>4</td>\n",
       "      <td>Iskosia90</td>\n",
       "      <td>23</td>\n",
       "      <td>Male</td>\n",
       "      <td>131</td>\n",
       "      <td>Fury</td>\n",
       "      <td>1.44</td>\n",
       "    </tr>\n",
       "  </tbody>\n",
       "</table>\n",
       "</div>"
      ],
      "text/plain": [
       "   Purchase ID             SN  Age Gender  Item ID  \\\n",
       "0            0        Lisim78   20   Male      108   \n",
       "1            1    Lisovynya38   40   Male      143   \n",
       "2            2     Ithergue48   24   Male       92   \n",
       "3            3  Chamassasya86   24   Male      100   \n",
       "4            4      Iskosia90   23   Male      131   \n",
       "\n",
       "                                   Item Name  Price  \n",
       "0  Extraction, Quickblade Of Trembling Hands   3.53  \n",
       "1                          Frenzied Scimitar   1.56  \n",
       "2                               Final Critic   4.88  \n",
       "3                                Blindscythe   3.27  \n",
       "4                                       Fury   1.44  "
      ]
     },
     "execution_count": 1608,
     "metadata": {},
     "output_type": "execute_result"
    }
   ],
   "source": [
    "#convert csv to dataframe\n",
    "df = pd.read_csv(\"pymoli_data.csv\")\n",
    "df.head()"
   ]
  },
  {
   "cell_type": "code",
   "execution_count": 1609,
   "metadata": {},
   "outputs": [],
   "source": [
    "#set variables\n",
    "total_purchases = 0\n",
    "item_count = 0\n",
    "player_count = 0\n",
    "visited = []"
   ]
  },
  {
   "cell_type": "code",
   "execution_count": 1610,
   "metadata": {},
   "outputs": [],
   "source": [
    "#run a for-loop to get item count\n",
    "for i in range(0, len(df['Item Name'])):\n",
    "    \n",
    "    if df['Item Name'][i] not in visited: \n",
    "        \n",
    "        visited.append(df['Item Name'][i])\n",
    "          \n",
    "        item_count += 1"
   ]
  },
  {
   "cell_type": "code",
   "execution_count": 1611,
   "metadata": {},
   "outputs": [],
   "source": [
    "#run a for-loop to get number of unique players\n",
    "for i in range(0, len(df['SN'])):\n",
    "    \n",
    "    if df['SN'][i] not in visited: \n",
    "        \n",
    "        visited.append(df['SN'][i])\n",
    "          \n",
    "        player_count += 1"
   ]
  },
  {
   "cell_type": "code",
   "execution_count": 1612,
   "metadata": {},
   "outputs": [],
   "source": [
    "#count total number of purchases by all customers\n",
    "with open(csvpath) as fin:\n",
    "    headerline = next(fin)\n",
    "    for i in csv.reader(fin):\n",
    "        total_purchases += 1"
   ]
  },
  {
   "cell_type": "code",
   "execution_count": 1613,
   "metadata": {},
   "outputs": [],
   "source": [
    "#calculate average purchase price\n",
    "mean_df = df['Price'].mean()"
   ]
  },
  {
   "cell_type": "code",
   "execution_count": 1614,
   "metadata": {},
   "outputs": [],
   "source": [
    "#calculate total revenue for all item purchases\n",
    "total_revenue = df['Price'].sum()"
   ]
  },
  {
   "cell_type": "code",
   "execution_count": 1615,
   "metadata": {},
   "outputs": [
    {
     "data": {
      "text/plain": [
       "Male                     652\n",
       "Female                   113\n",
       "Other / Non-Disclosed     15\n",
       "Name: Gender, dtype: int64"
      ]
     },
     "execution_count": 1615,
     "metadata": {},
     "output_type": "execute_result"
    }
   ],
   "source": [
    "#get count of how many customers are male, female, and other / non-diclosed\n",
    "df['Gender'].value_counts()"
   ]
  },
  {
   "cell_type": "code",
   "execution_count": 1616,
   "metadata": {},
   "outputs": [],
   "source": [
    "#set variables for use in percent calculations\n",
    "count_male = 652\n",
    "count_female = 113\n",
    "count_other = 15"
   ]
  },
  {
   "cell_type": "code",
   "execution_count": 1617,
   "metadata": {},
   "outputs": [],
   "source": [
    "#calculate percentage of customers that are male, female, and other/non-disclosed\n",
    "percentage_male = (count_male / total_purchases) * 100\n",
    "percentage_female = (count_female / total_purchases) * 100\n",
    "percentage_other = (count_other / total_purchases) * 100"
   ]
  },
  {
   "cell_type": "code",
   "execution_count": 1618,
   "metadata": {},
   "outputs": [],
   "source": [
    "#create new df with just male customer info\n",
    "male_df = df.loc[df[\"Gender\"] == \"Male\", :]\n",
    "#male_df.head()"
   ]
  },
  {
   "cell_type": "code",
   "execution_count": 1619,
   "metadata": {},
   "outputs": [],
   "source": [
    "#create df with just female customer info\n",
    "female_df = df.loc[df[\"Gender\"] == \"Female\", :]\n",
    "#female_df.head()"
   ]
  },
  {
   "cell_type": "code",
   "execution_count": 1620,
   "metadata": {},
   "outputs": [],
   "source": [
    "#create df with just 'other / non-disclosed' customer info\n",
    "other_df = df.loc[df[\"Gender\"] == \"Other / Non-Disclosed\", :]\n",
    "#other_df.head()"
   ]
  },
  {
   "cell_type": "code",
   "execution_count": 1621,
   "metadata": {},
   "outputs": [],
   "source": [
    "#calculate mean price for items by gender\n",
    "mean_male = male_df['Price'].mean()\n",
    "mean_female = female_df['Price'].mean()\n",
    "mean_other = other_df['Price'].mean()"
   ]
  },
  {
   "cell_type": "code",
   "execution_count": 1622,
   "metadata": {},
   "outputs": [],
   "source": [
    "#calculate total revenue by gender\n",
    "male_revenue = male_df['Price'].sum()\n",
    "female_revenue = female_df['Price'].sum()\n",
    "other_revenue = other_df['Price'].sum()"
   ]
  },
  {
   "cell_type": "code",
   "execution_count": 1623,
   "metadata": {},
   "outputs": [],
   "source": [
    "#calculate average amount spent per customer by gender\n",
    "male_totper = male_revenue / male_count\n",
    "female_totper = female_revenue / female_count\n",
    "other_totper = other_revenue / other_count"
   ]
  },
  {
   "cell_type": "code",
   "execution_count": 1624,
   "metadata": {},
   "outputs": [],
   "source": [
    "# Create the bins in which Data will be held  \n",
    "bins = [5.9, 9.9, 13.9, 17.9, 21.9, 25.9, 29.9, 33.9, 37.9, 41.9, 45.9]\n",
    "\n",
    "# Create the names for the bins\n",
    "group_names = [\"6-10\", \"10-14\", \"14-18\", \"18-22\", \"22-26\", \"26-30\", \"30-34\", \"34-38\", \"38-42\", \"42-46\"]"
   ]
  },
  {
   "cell_type": "code",
   "execution_count": 1625,
   "metadata": {},
   "outputs": [
    {
     "data": {
      "text/html": [
       "<div>\n",
       "<style scoped>\n",
       "    .dataframe tbody tr th:only-of-type {\n",
       "        vertical-align: middle;\n",
       "    }\n",
       "\n",
       "    .dataframe tbody tr th {\n",
       "        vertical-align: top;\n",
       "    }\n",
       "\n",
       "    .dataframe thead th {\n",
       "        text-align: right;\n",
       "    }\n",
       "</style>\n",
       "<table border=\"1\" class=\"dataframe\">\n",
       "  <thead>\n",
       "    <tr style=\"text-align: right;\">\n",
       "      <th></th>\n",
       "      <th>Purchase ID</th>\n",
       "      <th>SN</th>\n",
       "      <th>Age</th>\n",
       "      <th>Gender</th>\n",
       "      <th>Item ID</th>\n",
       "      <th>Item Name</th>\n",
       "      <th>Price</th>\n",
       "      <th>Age Groups</th>\n",
       "    </tr>\n",
       "  </thead>\n",
       "  <tbody>\n",
       "    <tr>\n",
       "      <th>0</th>\n",
       "      <td>0</td>\n",
       "      <td>Lisim78</td>\n",
       "      <td>20</td>\n",
       "      <td>Male</td>\n",
       "      <td>108</td>\n",
       "      <td>Extraction, Quickblade Of Trembling Hands</td>\n",
       "      <td>3.53</td>\n",
       "      <td>18-22</td>\n",
       "    </tr>\n",
       "    <tr>\n",
       "      <th>1</th>\n",
       "      <td>1</td>\n",
       "      <td>Lisovynya38</td>\n",
       "      <td>40</td>\n",
       "      <td>Male</td>\n",
       "      <td>143</td>\n",
       "      <td>Frenzied Scimitar</td>\n",
       "      <td>1.56</td>\n",
       "      <td>38-42</td>\n",
       "    </tr>\n",
       "    <tr>\n",
       "      <th>2</th>\n",
       "      <td>2</td>\n",
       "      <td>Ithergue48</td>\n",
       "      <td>24</td>\n",
       "      <td>Male</td>\n",
       "      <td>92</td>\n",
       "      <td>Final Critic</td>\n",
       "      <td>4.88</td>\n",
       "      <td>22-26</td>\n",
       "    </tr>\n",
       "    <tr>\n",
       "      <th>3</th>\n",
       "      <td>3</td>\n",
       "      <td>Chamassasya86</td>\n",
       "      <td>24</td>\n",
       "      <td>Male</td>\n",
       "      <td>100</td>\n",
       "      <td>Blindscythe</td>\n",
       "      <td>3.27</td>\n",
       "      <td>22-26</td>\n",
       "    </tr>\n",
       "    <tr>\n",
       "      <th>4</th>\n",
       "      <td>4</td>\n",
       "      <td>Iskosia90</td>\n",
       "      <td>23</td>\n",
       "      <td>Male</td>\n",
       "      <td>131</td>\n",
       "      <td>Fury</td>\n",
       "      <td>1.44</td>\n",
       "      <td>22-26</td>\n",
       "    </tr>\n",
       "    <tr>\n",
       "      <th>...</th>\n",
       "      <td>...</td>\n",
       "      <td>...</td>\n",
       "      <td>...</td>\n",
       "      <td>...</td>\n",
       "      <td>...</td>\n",
       "      <td>...</td>\n",
       "      <td>...</td>\n",
       "      <td>...</td>\n",
       "    </tr>\n",
       "    <tr>\n",
       "      <th>775</th>\n",
       "      <td>775</td>\n",
       "      <td>Aethedru70</td>\n",
       "      <td>21</td>\n",
       "      <td>Female</td>\n",
       "      <td>60</td>\n",
       "      <td>Wolf</td>\n",
       "      <td>3.54</td>\n",
       "      <td>18-22</td>\n",
       "    </tr>\n",
       "    <tr>\n",
       "      <th>776</th>\n",
       "      <td>776</td>\n",
       "      <td>Iral74</td>\n",
       "      <td>21</td>\n",
       "      <td>Male</td>\n",
       "      <td>164</td>\n",
       "      <td>Exiled Doomblade</td>\n",
       "      <td>1.63</td>\n",
       "      <td>18-22</td>\n",
       "    </tr>\n",
       "    <tr>\n",
       "      <th>777</th>\n",
       "      <td>777</td>\n",
       "      <td>Yathecal72</td>\n",
       "      <td>20</td>\n",
       "      <td>Male</td>\n",
       "      <td>67</td>\n",
       "      <td>Celeste, Incarnation of the Corrupted</td>\n",
       "      <td>3.46</td>\n",
       "      <td>18-22</td>\n",
       "    </tr>\n",
       "    <tr>\n",
       "      <th>778</th>\n",
       "      <td>778</td>\n",
       "      <td>Sisur91</td>\n",
       "      <td>7</td>\n",
       "      <td>Male</td>\n",
       "      <td>92</td>\n",
       "      <td>Final Critic</td>\n",
       "      <td>4.19</td>\n",
       "      <td>6-10</td>\n",
       "    </tr>\n",
       "    <tr>\n",
       "      <th>779</th>\n",
       "      <td>779</td>\n",
       "      <td>Ennrian78</td>\n",
       "      <td>24</td>\n",
       "      <td>Male</td>\n",
       "      <td>50</td>\n",
       "      <td>Dawn</td>\n",
       "      <td>4.60</td>\n",
       "      <td>22-26</td>\n",
       "    </tr>\n",
       "  </tbody>\n",
       "</table>\n",
       "<p>780 rows × 8 columns</p>\n",
       "</div>"
      ],
      "text/plain": [
       "     Purchase ID             SN  Age  Gender  Item ID  \\\n",
       "0              0        Lisim78   20    Male      108   \n",
       "1              1    Lisovynya38   40    Male      143   \n",
       "2              2     Ithergue48   24    Male       92   \n",
       "3              3  Chamassasya86   24    Male      100   \n",
       "4              4      Iskosia90   23    Male      131   \n",
       "..           ...            ...  ...     ...      ...   \n",
       "775          775     Aethedru70   21  Female       60   \n",
       "776          776         Iral74   21    Male      164   \n",
       "777          777     Yathecal72   20    Male       67   \n",
       "778          778        Sisur91    7    Male       92   \n",
       "779          779      Ennrian78   24    Male       50   \n",
       "\n",
       "                                     Item Name  Price Age Groups  \n",
       "0    Extraction, Quickblade Of Trembling Hands   3.53      18-22  \n",
       "1                            Frenzied Scimitar   1.56      38-42  \n",
       "2                                 Final Critic   4.88      22-26  \n",
       "3                                  Blindscythe   3.27      22-26  \n",
       "4                                         Fury   1.44      22-26  \n",
       "..                                         ...    ...        ...  \n",
       "775                                       Wolf   3.54      18-22  \n",
       "776                           Exiled Doomblade   1.63      18-22  \n",
       "777      Celeste, Incarnation of the Corrupted   3.46      18-22  \n",
       "778                               Final Critic   4.19       6-10  \n",
       "779                                       Dawn   4.60      22-26  \n",
       "\n",
       "[780 rows x 8 columns]"
      ]
     },
     "execution_count": 1625,
     "metadata": {},
     "output_type": "execute_result"
    }
   ],
   "source": [
    "#create df for binned data (by age)\n",
    "df[\"Age Groups\"] = pd.cut(df[\"Age\"], bins, labels=group_names, include_lowest=True)\n",
    "df"
   ]
  },
  {
   "cell_type": "code",
   "execution_count": 1626,
   "metadata": {},
   "outputs": [],
   "source": [
    "#calculate customer counts for each binned age group\n",
    "count_groups = df[\"Age Groups\"].value_counts()\n",
    "#print (count_groups)"
   ]
  },
  {
   "cell_type": "code",
   "execution_count": 1627,
   "metadata": {},
   "outputs": [],
   "source": [
    "#calculate mean price of items by age group\n",
    "mean_groups = df.groupby('Age Groups')\n",
    "mean_gprice = mean_groups[\"Price\"].mean()\n",
    "#print (mean_gprice)"
   ]
  },
  {
   "cell_type": "code",
   "execution_count": 1628,
   "metadata": {},
   "outputs": [],
   "source": [
    "#calculate total expenditure by age group\n",
    "sum_groups = df.groupby('Age Groups')\n",
    "sum_gprice = sum_groups[\"Price\"].sum()\n",
    "#print (sum_gprice)"
   ]
  },
  {
   "cell_type": "code",
   "execution_count": 1629,
   "metadata": {},
   "outputs": [],
   "source": [
    "#calculate average expenditure per customer by age group\n",
    "avg_gspend = (sum_gprice / count_groups)\n",
    "#print (avg_gspend)"
   ]
  },
  {
   "cell_type": "code",
   "execution_count": 1630,
   "metadata": {},
   "outputs": [
    {
     "name": "stdout",
     "output_type": "stream",
     "text": [
      "<pandas.core.groupby.generic.DataFrameGroupBy object at 0x7fbef037f978>\n",
      "Item Name                        Item ID  Price\n",
      "Abyssal Shard                    162      2.67     5\n",
      "Aetherius, Boon of the Blessed   137      3.39     5\n",
      "Agatha                           120      3.08     6\n",
      "Alpha                            130      2.07     3\n",
      "Alpha, Oath of Zeal              79       4.05     3\n",
      "                                                  ..\n",
      "Wolf                             60       3.54     8\n",
      "Wolf, Promise of the Moonwalker  179      4.48     6\n",
      "Worldbreaker                     112      2.60     4\n",
      "Yearning Crusher                 74       4.18     3\n",
      "Yearning Mageblade               114      3.82     5\n",
      "Name: Item ID, Length: 183, dtype: int64\n",
      "Item Name                        Item ID  Price\n",
      "Abyssal Shard                    162      2.67     13.35\n",
      "Aetherius, Boon of the Blessed   137      3.39     16.95\n",
      "Agatha                           120      3.08     18.48\n",
      "Alpha                            130      2.07      6.21\n",
      "Alpha, Oath of Zeal              79       4.05     12.15\n",
      "                                                   ...  \n",
      "Wolf                             60       3.54     28.32\n",
      "Wolf, Promise of the Moonwalker  179      4.48     26.88\n",
      "Worldbreaker                     112      2.60     10.40\n",
      "Yearning Crusher                 74       4.18     12.54\n",
      "Yearning Mageblade               114      3.82     19.10\n",
      "Name: Price, Length: 183, dtype: float64\n"
     ]
    }
   ],
   "source": [
    "item_groups = df.groupby(['Item Name', 'Item ID', 'Price'])\n",
    "item_pcount = item_groups['Item ID'].count()\n",
    "item_psum = item_groups['Price'].sum()\n",
    "print (item_groups)\n",
    "print (item_pcount)\n",
    "print (item_psum)"
   ]
  },
  {
   "cell_type": "code",
   "execution_count": 1631,
   "metadata": {},
   "outputs": [],
   "source": [
    "topitem_df = pd.DataFrame({\"Purchase Count\":item_pcount, \"Total Purchase Value\":item_psum})\n",
    "sortitem_df = topitem_df.sort_values(\"Purchase Count\").tail()\n",
    "#sortitem_df.tail()"
   ]
  },
  {
   "cell_type": "code",
   "execution_count": 1632,
   "metadata": {},
   "outputs": [],
   "source": [
    "valueitem_df = topitem_df.sort_values(\"Total Purchase Value\").tail()\n",
    "#print (valueitem_df)"
   ]
  },
  {
   "cell_type": "code",
   "execution_count": 1633,
   "metadata": {},
   "outputs": [],
   "source": [
    "SN_groups = df.groupby('SN')\n",
    "spender_df = SN_groups[\"Price\"].sum()\n",
    "spendercount = SN_groups[\"Price\"].count()\n",
    "avgprice = SN_groups[\"Price\"].mean()\n",
    "#print (spendercount)\n",
    "#print (spender_df)\n",
    "#print (avgprice)"
   ]
  },
  {
   "cell_type": "code",
   "execution_count": 1634,
   "metadata": {},
   "outputs": [],
   "source": [
    "topspender_df = pd.DataFrame({\"Purchase Count\":spendercount, \"Average Purchase Price\":avgprice, \"Total Purchase Value\":spender_df})\n",
    "topspender_df.head()\n",
    "top5spender = (topspender_df.sort_values(\"Total Purchase Value\").tail())"
   ]
  },
  {
   "cell_type": "code",
   "execution_count": 1635,
   "metadata": {},
   "outputs": [
    {
     "name": "stdout",
     "output_type": "stream",
     "text": [
      "Heroes of Pymoli\n",
      "----------------\n",
      "Player Count\n",
      "Total Number of Players: 576\n",
      "----------------\n",
      "Purchasing Analysis\n",
      "Number of Unique Items: 179\n",
      "Average Purchase Price: 3.0509871794871795\n",
      "Total Number of Purchases: 780\n",
      "Total Revenue: 2379.77\n",
      "----------------\n",
      "Gender Demographics\n",
      "Percentage of Male Players: 83.58974358974359 Count of Male Players: 652\n",
      "Percentage of Female Players: 14.487179487179489 Count of Female Players: 113\n",
      "Percentage of Other / Non-Disclosed 1.9230769230769231 Count of Other / Non-Disclosed 15\n",
      "----------------\n",
      "Purchasing Analysis (Gender)\n",
      "Number of Purchases: (Male) 652 (Female) 113 (Other/Non-Disclosed) 15\n",
      "Average Purchase Price: (Male) 3.0178527607361967 (Female) 3.203008849557522 (Other/Non-Disclosed) 3.3459999999999996\n",
      "Total Purchase Value: (Male) 1967.64 (Female) 361.94 (Other/Non-Disclosed) 50.19\n",
      "Average Purchase Total per Person Value: (Male) 3.0178527607361967 (Female) 3.203008849557522 (Other/Non-Disclosed) 3.3459999999999996\n",
      "----------------\n",
      "Age Demographics\n",
      "Purchase Count: 22-26    263\n",
      "18-22    210\n",
      "14-18     89\n",
      "30-34     64\n",
      "26-30     42\n",
      "34-38     35\n",
      "10-14     26\n",
      "38-42     23\n",
      "6-10      23\n",
      "42-46      5\n",
      "Name: Age Groups, dtype: int64\n",
      "Average Purchase Price: Age Groups\n",
      "6-10     3.353478\n",
      "10-14    2.918077\n",
      "14-18    3.006742\n",
      "18-22    3.082190\n",
      "22-26    3.045247\n",
      "26-30    2.645238\n",
      "30-34    2.997969\n",
      "34-38    3.209429\n",
      "38-42    3.509565\n",
      "42-46    2.998000\n",
      "Name: Price, dtype: float64\n",
      "Total Purchase Value: Age Groups\n",
      "6-10      77.13\n",
      "10-14     75.87\n",
      "14-18    267.60\n",
      "18-22    647.26\n",
      "22-26    800.90\n",
      "26-30    111.10\n",
      "30-34    191.87\n",
      "34-38    112.33\n",
      "38-42     80.72\n",
      "42-46     14.99\n",
      "Name: Price, dtype: float64\n",
      "Average Purchase Total per Person by Age Group: 6-10     3.353478\n",
      "10-14    2.918077\n",
      "14-18    3.006742\n",
      "18-22    3.082190\n",
      "22-26    3.045247\n",
      "26-30    2.645238\n",
      "30-34    2.997969\n",
      "34-38    3.209429\n",
      "38-42    3.509565\n",
      "42-46    2.998000\n",
      "dtype: float64\n",
      "----------------\n",
      "Top Spenders:              Purchase Count  Average Purchase Price  Total Purchase Value\n",
      "SN                                                                       \n",
      "Iskadarya95               3                4.366667                 13.10\n",
      "Iral74                    4                3.405000                 13.62\n",
      "Chamjask73                3                4.610000                 13.83\n",
      "Idastidru52               4                3.862500                 15.45\n",
      "Lisosia93                 5                3.792000                 18.96\n",
      "----------------\n",
      "Most Popular Items:                                                             Purchase Count  \\\n",
      "Item Name                                    Item ID Price                   \n",
      "Shadow Strike, Glory of Ending Hope          37      3.16                8   \n",
      "Fiery Glass Crusader                         145     4.58                9   \n",
      "Nirvana                                      82      4.90                9   \n",
      "Extraction, Quickblade Of Trembling Hands    108     3.53                9   \n",
      "Oathbreaker, Last Hope of the Breaking Storm 178     4.23               12   \n",
      "\n",
      "                                                            Total Purchase Value  \n",
      "Item Name                                    Item ID Price                        \n",
      "Shadow Strike, Glory of Ending Hope          37      3.16                  25.28  \n",
      "Fiery Glass Crusader                         145     4.58                  41.22  \n",
      "Nirvana                                      82      4.90                  44.10  \n",
      "Extraction, Quickblade Of Trembling Hands    108     3.53                  31.77  \n",
      "Oathbreaker, Last Hope of the Breaking Storm 178     4.23                  50.76  \n",
      "----------------\n",
      "Most Profitable Items:                                                             Purchase Count  \\\n",
      "Item Name                                    Item ID Price                   \n",
      "Singed Scalpel                               103     4.35                8   \n",
      "Final Critic                                 92      4.88                8   \n",
      "Fiery Glass Crusader                         145     4.58                9   \n",
      "Nirvana                                      82      4.90                9   \n",
      "Oathbreaker, Last Hope of the Breaking Storm 178     4.23               12   \n",
      "\n",
      "                                                            Total Purchase Value  \n",
      "Item Name                                    Item ID Price                        \n",
      "Singed Scalpel                               103     4.35                  34.80  \n",
      "Final Critic                                 92      4.88                  39.04  \n",
      "Fiery Glass Crusader                         145     4.58                  41.22  \n",
      "Nirvana                                      82      4.90                  44.10  \n",
      "Oathbreaker, Last Hope of the Breaking Storm 178     4.23                  50.76  \n"
     ]
    }
   ],
   "source": [
    "print (\"Heroes of Pymoli\")\n",
    "print (\"----------------\")\n",
    "print (\"Player Count\")\n",
    "print (\"Total Number of Players:\", player_count)\n",
    "print (\"----------------\")\n",
    "print (\"Purchasing Analysis\")\n",
    "print (\"Number of Unique Items:\", item_count)\n",
    "print(\"Average Purchase Price:\", mean_df)\n",
    "print (\"Total Number of Purchases:\", total_purchases)\n",
    "print (\"Total Revenue:\", total_revenue)\n",
    "print (\"----------------\")\n",
    "print (\"Gender Demographics\")\n",
    "print (\"Percentage of Male Players:\", percentage_male,\"Count of Male Players:\", count_male)\n",
    "print (\"Percentage of Female Players:\", percentage_female, \"Count of Female Players:\", count_female)\n",
    "print (\"Percentage of Other / Non-Disclosed\", percentage_other, \"Count of Other / Non-Disclosed\", count_other)\n",
    "print (\"----------------\")\n",
    "print (\"Purchasing Analysis (Gender)\")\n",
    "print (\"Number of Purchases: (Male)\", count_male, \"(Female)\", count_female, \"(Other/Non-Disclosed)\", count_other)\n",
    "print (\"Average Purchase Price: (Male)\", mean_male, \"(Female)\", mean_female, \"(Other/Non-Disclosed)\", mean_other)\n",
    "print (\"Total Purchase Value: (Male)\", male_revenue, \"(Female)\", female_revenue, \"(Other/Non-Disclosed)\", other_revenue)\n",
    "print (\"Average Purchase Total per Person Value: (Male)\", male_totper, \"(Female)\", female_totper, \"(Other/Non-Disclosed)\", other_totper)\n",
    "print (\"----------------\")\n",
    "print (\"Age Demographics\")\n",
    "print (\"Purchase Count:\", count_groups)\n",
    "print (\"Average Purchase Price:\", mean_gprice)\n",
    "print (\"Total Purchase Value:\", sum_gprice)\n",
    "print (\"Average Purchase Total per Person by Age Group:\", avg_gspend)\n",
    "print (\"----------------\")\n",
    "print (\"Top Spenders:\", top5spender)\n",
    "print (\"----------------\")\n",
    "print (\"Most Popular Items:\", sortitem_df.tail())\n",
    "print (\"----------------\")\n",
    "print (\"Most Profitable Items:\", valueitem_df.tail())"
   ]
  },
  {
   "cell_type": "code",
   "execution_count": null,
   "metadata": {},
   "outputs": [],
   "source": []
  },
  {
   "cell_type": "code",
   "execution_count": null,
   "metadata": {},
   "outputs": [],
   "source": []
  },
  {
   "cell_type": "code",
   "execution_count": null,
   "metadata": {},
   "outputs": [],
   "source": []
  },
  {
   "cell_type": "code",
   "execution_count": null,
   "metadata": {},
   "outputs": [],
   "source": []
  },
  {
   "cell_type": "code",
   "execution_count": null,
   "metadata": {},
   "outputs": [],
   "source": []
  },
  {
   "cell_type": "code",
   "execution_count": null,
   "metadata": {},
   "outputs": [],
   "source": []
  },
  {
   "cell_type": "code",
   "execution_count": null,
   "metadata": {},
   "outputs": [],
   "source": [
    "\n"
   ]
  },
  {
   "cell_type": "code",
   "execution_count": null,
   "metadata": {},
   "outputs": [],
   "source": []
  },
  {
   "cell_type": "code",
   "execution_count": null,
   "metadata": {},
   "outputs": [],
   "source": []
  }
 ],
 "metadata": {
  "kernelspec": {
   "display_name": "Python [conda env:PythonData]",
   "language": "python",
   "name": "conda-env-PythonData-py"
  },
  "language_info": {
   "codemirror_mode": {
    "name": "ipython",
    "version": 3
   },
   "file_extension": ".py",
   "mimetype": "text/x-python",
   "name": "python",
   "nbconvert_exporter": "python",
   "pygments_lexer": "ipython3",
   "version": "3.6.10"
  }
 },
 "nbformat": 4,
 "nbformat_minor": 4
}
